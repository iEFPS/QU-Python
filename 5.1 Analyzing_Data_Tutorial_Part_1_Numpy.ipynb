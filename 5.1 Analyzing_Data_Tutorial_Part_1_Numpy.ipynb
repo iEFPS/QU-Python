{
  "nbformat": 4,
  "nbformat_minor": 0,
  "metadata": {
    "colab": {
      "name": "Analyzing Data Tutorial - Part 1 Numpy",
      "provenance": [],
      "private_outputs": true,
      "collapsed_sections": [],
      "toc_visible": true,
      "include_colab_link": true
    },
    "kernelspec": {
      "name": "python3",
      "display_name": "Python 3"
    }
  },
  "cells": [
    {
      "cell_type": "markdown",
      "metadata": {
        "id": "view-in-github",
        "colab_type": "text"
      },
      "source": [
        "<a href=\"https://colab.research.google.com/github/iEpsilon-FPS/QU-Python/blob/master/5.1%20Analyzing_Data_Tutorial_Part_1_Numpy.ipynb\" target=\"_parent\"><img src=\"https://colab.research.google.com/assets/colab-badge.svg\" alt=\"Open In Colab\"/></a>"
      ]
    },
    {
      "cell_type": "markdown",
      "metadata": {
        "id": "_E6bd_J0Q0mp",
        "colab_type": "text"
      },
      "source": [
        "#Analyzing Data. Packages Covered\n",
        "- numpy"
      ]
    },
    {
      "cell_type": "markdown",
      "metadata": {
        "id": "qq-PrfmmXZZE",
        "colab_type": "text"
      },
      "source": [
        "Copyright 2020 QuantUniversity LLC."
      ]
    },
    {
      "cell_type": "markdown",
      "metadata": {
        "id": "lsQBsmpaQetV",
        "colab_type": "text"
      },
      "source": [
        "This is a modified and extended from this [tutorial](https://colab.research.google.com/github/google/eng-edu/blob/master/ml/cc/exercises/numpy_ultraquick_tutorial.ipynb?utm_source=mlcc&utm_campaign=colab-external&utm_medium=referral&utm_content=mlcc-prework&hl=en).\n",
        "NumPy is a Python library for creating and manipulating vectors and matrices. "
      ]
    },
    {
      "cell_type": "code",
      "metadata": {
        "id": "KCauuywkXja6",
        "colab_type": "code",
        "colab": {}
      },
      "source": [
        "!pip install yfinance"
      ],
      "execution_count": null,
      "outputs": []
    },
    {
      "cell_type": "code",
      "metadata": {
        "id": "guvPzSWYJGZ4",
        "colab_type": "code",
        "colab": {}
      },
      "source": [
        "import numpy as np # This is NumPy\n",
        "import yfinance as yf # This is Yahoo finance\n",
        "import datetime # This is financial calenars"
      ],
      "execution_count": null,
      "outputs": []
    },
    {
      "cell_type": "markdown",
      "metadata": {
        "id": "7cT9fXS_JUpa",
        "colab_type": "text"
      },
      "source": [
        "## Populate arrays with specific numbers\n",
        "\n",
        "Call `np.array` to create a NumPy matrix with your own hand-picked values. For example, the following call to `np.array` creates an 8-element vector:"
      ]
    },
    {
      "cell_type": "code",
      "metadata": {
        "id": "XxJR5xKpJbB3",
        "colab_type": "code",
        "colab": {}
      },
      "source": [
        "# This is simple vector\n",
        "one_dimensional_array = np.array([1.2, 2.4, 3.5, 4.7, 6.1, 7.2, 8.3, 9.5])\n",
        "print(one_dimensional_array)"
      ],
      "execution_count": null,
      "outputs": []
    },
    {
      "cell_type": "markdown",
      "metadata": {
        "id": "RKywqhLTbR1M",
        "colab_type": "text"
      },
      "source": [
        "You can also use `np.array` to create a two-dimensional matrix. To create a two-dimensional matrix, specify an extra layer of square brackets. For example, the following call creates a 3x2 matrix:"
      ]
    },
    {
      "cell_type": "code",
      "metadata": {
        "id": "_veGj18eMCDu",
        "colab_type": "code",
        "colab": {}
      },
      "source": [
        "# This is 3 x 2 matrix\n",
        "two_dimensional_array = np.array([[6, 5], [11, 7], [4, 8]])\n",
        "print(two_dimensional_array)"
      ],
      "execution_count": null,
      "outputs": []
    },
    {
      "cell_type": "code",
      "metadata": {
        "id": "fedJmBhf8w_3",
        "colab_type": "code",
        "colab": {}
      },
      "source": [
        "# This is a transposition\n",
        "two_dim_tr = two_dimensional_array.T\n",
        "two_dim_tr"
      ],
      "execution_count": null,
      "outputs": []
    },
    {
      "cell_type": "code",
      "metadata": {
        "id": "VbkJxaRe87d4",
        "colab_type": "code",
        "colab": {}
      },
      "source": [
        "# This gives dimensions of the matrix\n",
        "two_dim_tr.shape"
      ],
      "execution_count": null,
      "outputs": []
    },
    {
      "cell_type": "code",
      "metadata": {
        "id": "WBqPUp_w9GGU",
        "colab_type": "code",
        "colab": {}
      },
      "source": [
        "# This flattens my 2 x 3 matrix into a 6 x 1 vector\n",
        "two_to_one_dim = two_dim_tr.ravel()\n",
        "two_to_one_dim"
      ],
      "execution_count": null,
      "outputs": []
    },
    {
      "cell_type": "code",
      "metadata": {
        "id": "66qSA6x28QGZ",
        "colab_type": "code",
        "colab": {}
      },
      "source": [
        "# This shows two_to_one_dim is a 6 x 1 vector\n",
        "two_to_one_dim.shape"
      ],
      "execution_count": null,
      "outputs": []
    },
    {
      "cell_type": "code",
      "metadata": {
        "id": "2VzNBZ5S9_pT",
        "colab_type": "code",
        "colab": {}
      },
      "source": [
        "# This reshape a flat vector into a 3 x 2 matrix\n",
        "one_dim_to_two = two_to_one_dim.reshape(3,2)\n",
        "one_dim_to_two"
      ],
      "execution_count": null,
      "outputs": []
    },
    {
      "cell_type": "code",
      "metadata": {
        "id": "yGImlfsE807_",
        "colab_type": "code",
        "colab": {}
      },
      "source": [
        "# What is the new shape?\n",
        "one_dim_to_two.shape"
      ],
      "execution_count": null,
      "outputs": []
    },
    {
      "cell_type": "code",
      "metadata": {
        "id": "T1CfJk6P-jDJ",
        "colab_type": "code",
        "colab": {}
      },
      "source": [
        "# This is reshaping again\n",
        "one_dim_to_two_alt = two_to_one_dim.reshape(2,-1)\n",
        "one_dim_to_two_alt "
      ],
      "execution_count": null,
      "outputs": []
    },
    {
      "cell_type": "code",
      "metadata": {
        "id": "RT_v02wq9Fk9",
        "colab_type": "code",
        "colab": {}
      },
      "source": [
        "# What is the new shape?\n",
        "one_dim_to_two_alt.shape"
      ],
      "execution_count": null,
      "outputs": []
    },
    {
      "cell_type": "code",
      "metadata": {
        "id": "zZ0FPtKR_lcZ",
        "colab_type": "code",
        "colab": {}
      },
      "source": [
        "# This is sorting\n",
        "b = np.sort(one_dim_to_two_alt,axis =1)\n",
        "print(\"appear like horizontal (by columns) sorting b =\", b)\n",
        "print()\n",
        "\n",
        "c = np.sort(one_dim_to_two_alt,axis =0)\n",
        "print(\"appear like vertical (by rows) sorting c =\", c)"
      ],
      "execution_count": null,
      "outputs": []
    },
    {
      "cell_type": "markdown",
      "metadata": {
        "id": "0ED7eug9CvGR",
        "colab_type": "text"
      },
      "source": [
        "To populate a matrix with all zeroes, call `np.zeros`. To populate a matrix with all ones, call `np.ones`."
      ]
    },
    {
      "cell_type": "code",
      "metadata": {
        "id": "W3QJ6AI2jT9H",
        "colab_type": "code",
        "colab": {}
      },
      "source": [
        "# ?np.zeros\n",
        "a = np.zeros(5)\n",
        "print(\"a =\", a)\n",
        "print()\n",
        "\n",
        "b = np.zeros((2,3))\n",
        "print(\"b =\", b)"
      ],
      "execution_count": null,
      "outputs": []
    },
    {
      "cell_type": "markdown",
      "metadata": {
        "id": "gEy_pdBoROu3",
        "colab_type": "text"
      },
      "source": [
        "## Populate arrays with sequences of numbers\n",
        "\n",
        "You can populate an array with a sequence of numbers:"
      ]
    },
    {
      "cell_type": "code",
      "metadata": {
        "id": "CjHfYWhdQYtO",
        "colab_type": "code",
        "colab": {}
      },
      "source": [
        "# ?np.arange. NOTE: EXCLUDES the upper bound, for obscure syntax reasons.... \n",
        "sequence_of_integers = np.arange(5, 12)\n",
        "print(\"sequence_of_integers from 5 (included) to 11 (12 excluded)=\", sequence_of_integers)"
      ],
      "execution_count": null,
      "outputs": []
    },
    {
      "cell_type": "markdown",
      "metadata": {
        "id": "1x3OoWrPWn8S",
        "colab_type": "text"
      },
      "source": [
        "Notice that `np.arange` generates a sequence that includes the lower bound (5) but not the upper bound (12). "
      ]
    },
    {
      "cell_type": "markdown",
      "metadata": {
        "id": "aiqqxDBINAOY",
        "colab_type": "text"
      },
      "source": [
        "## Populate arrays with random numbers\n",
        "\n",
        "NumPy provides various functions to populate matrices with random numbers across certain ranges. For example, `np.random.randint` generates random integers between a low and high value. The following call populates a 6-element vector with random integers between 50 and 100. \n",
        "\n",
        "\n"
      ]
    },
    {
      "cell_type": "code",
      "metadata": {
        "id": "tG8ao9CsNqw8",
        "colab_type": "code",
        "colab": {}
      },
      "source": [
        "# ?np.random, see the different types of random numbers that can be generated with NumPy\n",
        "random_integers_between_50_and_100 = np.random.random_integers(low=50, high=101, size=(6))\n",
        "print(random_integers_between_50_and_100)"
      ],
      "execution_count": null,
      "outputs": []
    },
    {
      "cell_type": "markdown",
      "metadata": {
        "id": "lQF6-Eg0ksqE",
        "colab_type": "text"
      },
      "source": [
        "To create random floating-point values between 0.0 and 1.0, call `np.random.random`. For example:"
      ]
    },
    {
      "cell_type": "code",
      "metadata": {
        "id": "6Ny0eXZPk5Ax",
        "colab_type": "code",
        "colab": {}
      },
      "source": [
        "# ?np.random.random\n",
        "random_floats_between_0_and_1 = np.random.random([6])\n",
        "print(random_floats_between_0_and_1) "
      ],
      "execution_count": null,
      "outputs": []
    },
    {
      "cell_type": "markdown",
      "metadata": {
        "id": "eXOdSjRlSEf6",
        "colab_type": "text"
      },
      "source": [
        "## Mathematical Operations on NumPy Operands\n",
        "\n",
        "If you want to add or subtract two vectors or matrices, linear algebra requires that the two operands have the same dimensions. Furthermore, if you want to multiply two vectors or matrices, linear algebra imposes strict rules on the dimensional compatibility of operands. Fortunately, NumPy uses a trick called [**broadcasting**](https://developers.google.com/machine-learning/glossary/#broadcasting) to virtually expand the smaller operand to dimensions compatible for linear algebra. For example, the following operation uses broadcasting to add 2.0 to the value of every item in the vector created in the previous code cell:"
      ]
    },
    {
      "cell_type": "code",
      "metadata": {
        "id": "J5E5S0wjRvQr",
        "colab_type": "code",
        "colab": {}
      },
      "source": [
        "# This adds 2 to every row of the 6 x 1 vector\n",
        "random_floats_between_2_and_3 = random_floats_between_0_and_1 + 2.0\n",
        "print(random_floats_between_2_and_3)"
      ],
      "execution_count": null,
      "outputs": []
    },
    {
      "cell_type": "markdown",
      "metadata": {
        "id": "x6K_poVDPpAg",
        "colab_type": "text"
      },
      "source": [
        "The following operation also relies on broadcasting to multiply each cell in a vector by 3:"
      ]
    },
    {
      "cell_type": "code",
      "metadata": {
        "id": "tYjvXmvFPoPB",
        "colab_type": "code",
        "colab": {}
      },
      "source": [
        "# This is the multiplication by 3 of a 6x1 random vector from 50 to 100\n",
        "random_integers_between_150_and_300 = random_integers_between_50_and_100 * 3\n",
        "print(random_integers_between_150_and_300)"
      ],
      "execution_count": null,
      "outputs": []
    },
    {
      "cell_type": "markdown",
      "metadata": {
        "id": "_ErhoybbuRRf",
        "colab_type": "text"
      },
      "source": [
        "## Create a Linear Dataset\n",
        "\n",
        "Your goal is to create a simple dataset consisting of a single feature and a label as follows:\n",
        "\n",
        "1. Assign a sequence of integers from 6 to 20 (inclusive) to a NumPy array named `feature`.\n",
        "2. Assign 15 values to a NumPy array named `label` such that:\n",
        "\n",
        "```\n",
        "   label = (3)(feature) + 4\n",
        "```\n",
        "For example, the first value for `label` should be:\n",
        "\n",
        "```\n",
        "  label = (3)(6) + 4 = 22\n",
        " ```"
      ]
    },
    {
      "cell_type": "code",
      "metadata": {
        "id": "Uc4ETAyauQbD",
        "colab_type": "code",
        "colab": {}
      },
      "source": [
        "# This give a suite of integers by increment of 1 from 6 to 20 (21 excluded)\n",
        "feature = np.arange(6, 21)\n",
        "print(feature)\n",
        "print()\n",
        "\n",
        "# Multiply the 15x1 vector above by 3, and add 4 to each line \n",
        "label = (feature * 3) + 4\n",
        "print(label)"
      ],
      "execution_count": null,
      "outputs": []
    },
    {
      "cell_type": "markdown",
      "metadata": {
        "id": "RNsjGYRj87PB",
        "colab_type": "text"
      },
      "source": [
        "## Add Some Noise to the Dataset\n",
        "\n",
        "To make your dataset a little more realistic, insert a little random noise into each element of the `label` array you already created. To be more precise, modify each value assigned to `label` by adding a *different* random floating-point value between -2 and +2. \n",
        "\n",
        "Don't rely on broadcasting. Instead, create a `noise` array having the same dimension as `label`."
      ]
    },
    {
      "cell_type": "code",
      "metadata": {
        "id": "HF-flFfs9r0q",
        "colab_type": "code",
        "colab": {}
      },
      "source": [
        "# This creates a 15x1 noise vector between 0 and 1, \n",
        "# then multiple by 4, which gives vector between 0 and 4\n",
        "# then substract 2, which gives vector between -2 and +2  \n",
        "noise = (np.random.random([15]) * 4) - 2\n",
        "print(\"noise =\", noise)\n",
        "print()\n",
        "\n",
        "# Thia adds the \"noise\" above, to the \"label\" above, and that becomes the new \"label\"\n",
        "label = label + noise \n",
        "print(\"label =\", label)\n",
        "print()"
      ],
      "execution_count": null,
      "outputs": []
    },
    {
      "cell_type": "markdown",
      "metadata": {
        "id": "DdNBkI3IurH8",
        "colab_type": "text"
      },
      "source": [
        "# Converting between Pandas and numpy arrays"
      ]
    },
    {
      "cell_type": "code",
      "metadata": {
        "id": "bxlVRJ5cjDDZ",
        "colab_type": "code",
        "colab": {}
      },
      "source": [
        "d1 = datetime.datetime(2019, 5, 1)\n",
        "d2 = datetime.datetime(2019, 12, 31)\n",
        "ticker = yf.Ticker('MSFT')\n",
        "histData = ticker.history(start=d1, end=d2)\n",
        "print(histData)"
      ],
      "execution_count": null,
      "outputs": []
    },
    {
      "cell_type": "code",
      "metadata": {
        "id": "QLrplPuPuCuK",
        "colab_type": "code",
        "colab": {}
      },
      "source": [
        "openSeries = histData.Open\n",
        "openSeries"
      ],
      "execution_count": null,
      "outputs": []
    },
    {
      "cell_type": "code",
      "metadata": {
        "id": "N7SXhpumu1CG",
        "colab_type": "code",
        "colab": {}
      },
      "source": [
        "openData = openSeries.to_numpy()\n",
        "openData"
      ],
      "execution_count": null,
      "outputs": []
    }
  ]
}