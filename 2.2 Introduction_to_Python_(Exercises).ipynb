{
  "nbformat": 4,
  "nbformat_minor": 0,
  "metadata": {
    "colab": {
      "name": "2.2 Introduction to Python (Exercises)",
      "provenance": [],
      "collapsed_sections": [],
      "toc_visible": true,
      "include_colab_link": true
    },
    "kernelspec": {
      "display_name": "Python 3",
      "name": "python3"
    }
  },
  "cells": [
    {
      "cell_type": "markdown",
      "metadata": {
        "id": "view-in-github",
        "colab_type": "text"
      },
      "source": [
        "<a href=\"https://colab.research.google.com/github/iEpsilon-FPS/QU-Python/blob/master/2.2%20Introduction_to_Python_(Exercises).ipynb\" target=\"_parent\"><img src=\"https://colab.research.google.com/assets/colab-badge.svg\" alt=\"Open In Colab\"/></a>"
      ]
    },
    {
      "cell_type": "markdown",
      "metadata": {
        "id": "WsEKuLoy_pdl",
        "colab_type": "text"
      },
      "source": [
        "# Introduction to Python (Exercises)\n",
        "### Try out these exercises to reinforce your concepts\n",
        "##### Copyright 2020 QuantUniversity LLC."
      ]
    },
    {
      "cell_type": "markdown",
      "metadata": {
        "id": "fQjLUMeYWj3k",
        "colab_type": "text"
      },
      "source": [
        ""
      ]
    },
    {
      "cell_type": "markdown",
      "metadata": {
        "colab_type": "text",
        "id": "JyG45Qk3qQLS"
      },
      "source": [
        "## 1. Operations\n",
        "#### 1. Create two strings\n",
        "#### 2. Write a function that accepts these strings and concatenates these strings with spaces\n",
        "#### 3. Check help to see if there are other ways of concatenating strings"
      ]
    },
    {
      "cell_type": "code",
      "metadata": {
        "id": "FKCtBqceDqS-",
        "colab_type": "code",
        "colab": {}
      },
      "source": [
        "## examples create two strings\n",
        "print('Example ' '1')\n",
        "a = \"good\"\n",
        "b = \"bad\"\n",
        "c = a + \" & \" + b\n",
        "print(\"a =\",a,\", b =\",b,\", c =\",c)\n",
        "\n",
        "## other example\n",
        "print()\n",
        "print(\"Example \" \"2\")\n",
        "x = \"Python is \"\n",
        "y = \"awesome\"\n",
        "z = x + y\n",
        "print(z)\n",
        "\n",
        "print()\n",
        "print('Example ' + \"3\")\n",
        "notes1 = ['do', 're', 'mi']\n",
        "notes = ','.join(notes1)\n",
        "print(notes)\n",
        "\n",
        "print()\n",
        "print('Example 4')\n",
        "notes2 = ['fa', ' sol', ' la', \" si\"]\n",
        "print(','.join(notes2))\n"
      ],
      "execution_count": null,
      "outputs": []
    },
    {
      "cell_type": "markdown",
      "metadata": {
        "colab_type": "text",
        "id": "KR921S_OQSHG"
      },
      "source": [
        "## 2. Copy\n",
        "#### 1. Create a list of 4 characters and call it A\n",
        "#### 2. Add a 5th character to this list A and call it B?\n",
        "#### 3. Create a new list C that is a concatenation of the original list A and new list B\n",
        "#### 4. What does D = C[:] do?"
      ]
    },
    {
      "cell_type": "code",
      "metadata": {
        "id": "20XagAiMDrCN",
        "colab_type": "code",
        "colab": {}
      },
      "source": [
        "A = ['a','b','c','d']\n",
        "B = A + [\"e\"]\n",
        "print('this is A, B', A,B)\n",
        "C = A + B\n",
        "print('this is A+B', C)\n",
        "D=C[:]  \n",
        "print('this is C', C)\n",
        "print('this is C[:], D', C[:], D)"
      ],
      "execution_count": null,
      "outputs": []
    },
    {
      "cell_type": "markdown",
      "metadata": {
        "id": "Zzu_UOhv4iw-",
        "colab_type": "text"
      },
      "source": [
        "## 3. Try out the following list operations\n",
        "Here are some other common list methods. Try them\n",
        "\n",
        "list.append(elem) -- adds a single element to the end of the list. Common error: does not return the new list, just modifies the original.\n",
        "\n",
        "list.insert(index, elem) -- inserts the element at the given index, shifting elements to the right.\n",
        "\n",
        "list.extend(list2) adds the elements in list2 to the end of the list. Using + or += on a list is similar to using extend().\n",
        "\n",
        "list.index(elem) -- searches for the given element from the start of the list and returns its index. Throws a ValueError if the element does not appear (use \"in\" to check without a ValueError).\n",
        "\n",
        "list.remove(elem) -- searches for the first instance of the given element and removes it (throws ValueError if not present)\n",
        "\n",
        "\n",
        "list.sort() -- sorts the list in place (does not return it). (The sorted() function shown later is preferred.)\n",
        "\n",
        "list.reverse() -- reverses the list in place (does not return it)\n",
        "\n",
        "list.pop(index) -- removes and returns the element at the given index. Returns the rightmost element if index is omitted (roughly the opposite of append())."
      ]
    },
    {
      "cell_type": "code",
      "metadata": {
        "id": "aoG_RXCADsAr",
        "colab_type": "code",
        "colab": {
          "base_uri": "https://localhost:8080/",
          "height": 276
        },
        "outputId": "5eceb2f5-e45d-4b4a-dc6b-a9c8cb58b791"
      },
      "source": [
        "fruits = ['apple', 'banana', 'cherry']\n",
        "vegies = ['potato', 'tomato']\n",
        "print(fruits)\n",
        "print(vegies)\n",
        "\n",
        "## question 1 .append\n",
        "fruits.append('mango')  ## append mango at the end of the list\n",
        "print(fruits)\n",
        "\n",
        "## question 2 .insert\n",
        "fruits.insert(2,'orange')  ## insert orange in the third position \n",
        "print(fruits)\n",
        "\n",
        "## question 3 .extend\n",
        "lunch = fruits + vegies\n",
        "print('Lunch = ', lunch)  ## Normal lunch\n",
        "fruits.extend(vegies)\n",
        "print('New Fruits = ', fruits)  ## fruits is lunh here, b/c of the extend\n",
        "lunch = fruits + vegies\n",
        "print('New lunch = ', lunch)  ##  fruits is already extended, showing vegies twice\n",
        "\n",
        "## reset\n",
        "fruits = ['apple', 'banana', 'cherry']\n",
        "vegies = ['potato', 'tomato']\n",
        "lunch = fruits + vegies\n",
        "\n",
        "## question 4 .index\n",
        "print(lunch.index('potato'))\n",
        "\n",
        "## question 5 .remove\n",
        "lunch.remove('potato')\n",
        "print(lunch)\n",
        "\n",
        "## reset\n",
        "lunch = fruits + vegies\n",
        "\n",
        "## question 6 .sort\n",
        "lunch.sort()\n",
        "print(lunch)\n",
        "\n",
        "## question 7 .reverse\n",
        "lunch.reverse()\n",
        "print(lunch)\n",
        "\n",
        "## question 8 .pop\n",
        "print(lunch.pop(2))\n",
        "print(lunch)\n"
      ],
      "execution_count": null,
      "outputs": [
        {
          "output_type": "stream",
          "text": [
            "['apple', 'banana', 'cherry']\n",
            "['potato', 'tomato']\n",
            "['apple', 'banana', 'cherry', 'mango']\n",
            "['apple', 'banana', 'orange', 'cherry', 'mango']\n",
            "Lunch =  ['apple', 'banana', 'orange', 'cherry', 'mango', 'potato', 'tomato']\n",
            "New Fruits =  ['apple', 'banana', 'orange', 'cherry', 'mango', 'potato', 'tomato']\n",
            "New lunch =  ['apple', 'banana', 'orange', 'cherry', 'mango', 'potato', 'tomato', 'potato', 'tomato']\n",
            "3\n",
            "['apple', 'banana', 'cherry', 'tomato']\n",
            "['apple', 'banana', 'cherry', 'potato', 'tomato']\n",
            "['tomato', 'potato', 'cherry', 'banana', 'apple']\n",
            "cherry\n",
            "['tomato', 'potato', 'banana', 'apple']\n"
          ],
          "name": "stdout"
        }
      ]
    },
    {
      "cell_type": "markdown",
      "metadata": {
        "id": "mPn6eBEDAxMN",
        "colab_type": "text"
      },
      "source": [
        "## 4. Try out different functions in the math library\n",
        "#### 1. What does log do?\n",
        "#### 2. How do you generate 10 uniform random numbers between 0-1"
      ]
    },
    {
      "cell_type": "code",
      "metadata": {
        "id": "w0WV_r_TDspT",
        "colab_type": "code",
        "colab": {
          "base_uri": "https://localhost:8080/",
          "height": 674
        },
        "outputId": "25dcc4c0-ed66-4d04-9bd8-d45e5267154f"
      },
      "source": [
        "import math as m  ## refer to \"MATH\" library\n",
        "import numpy as np  ## import \"NUMPY\" library\n",
        "from matplotlib import pyplot as plt  ## import \"MATPLOTLIB\" for graphs plotting\n",
        "\n",
        "## question 1 on log\n",
        "\n",
        "a = m.log(1)\n",
        "b = m.log(2,7183)\n",
        "print(\"log(1)=\", a , \"log(e)=\" , b )\n",
        "print()\n",
        "\n",
        "## question 2 on normal random variable\n",
        "\n",
        "\n",
        "gauss10 = np.random.normal(0,1,10)\n",
        "print(gauss10)\n",
        "print()\n",
        "\n",
        "y = gauss10\n",
        "x = [x for x in range(len(y))]\n",
        "plt.plot(x, y, '+')\n",
        "plt.title(\"Ten Normal Random Numbers Plotted\")\n",
        "plt.show()\n",
        "print()\n",
        "\n",
        "y = gauss10\n",
        "x = [x for x in range(len(y))]\n",
        "plt.fill_between(x, y)\n",
        "plt.title(\"Ten Normal Random Numbers Filling\")\n",
        "plt.show()\n",
        "print()"
      ],
      "execution_count": null,
      "outputs": [
        {
          "output_type": "stream",
          "text": [
            "log(1)= 0.0 log(e)= 0.07806175290301963\n",
            "\n",
            "[ 0.23049029  0.70091005  0.40001519  0.32976913  1.48033786 -1.18965633\n",
            " -2.32371893  0.51934485 -0.08774271 -0.52916546]\n",
            "\n"
          ],
          "name": "stdout"
        },
        {
          "output_type": "display_data",
          "data": {
            "image/png": "[encoded data removed]",
            "text/plain": [
              "<Figure size 432x288 with 1 Axes>"
            ]
          },
          "metadata": {
            "tags": [],
            "needs_background": "light"
          }
        },
        {
          "output_type": "stream",
          "text": [
            "\n"
          ],
          "name": "stdout"
        },
        {
          "output_type": "display_data",
          "data": {
            "image/png": "[encoded data removed]",
            "text/plain": [
              "<Figure size 432x288 with 1 Axes>"
            ]
          },
          "metadata": {
            "tags": [],
            "needs_background": "light"
          }
        },
        {
          "output_type": "stream",
          "text": [
            "\n"
          ],
          "name": "stdout"
        }
      ]
    }
  ]
}