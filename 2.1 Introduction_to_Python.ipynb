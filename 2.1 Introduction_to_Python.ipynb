{
  "nbformat": 4,
  "nbformat_minor": 0,
  "metadata": {
    "colab": {
      "name": "Introduction to Python",
      "provenance": [],
      "collapsed_sections": [],
      "toc_visible": true,
      "include_colab_link": true
    },
    "kernelspec": {
      "display_name": "Python 3",
      "name": "python3"
    }
  },
  "cells": [
    {
      "cell_type": "markdown",
      "metadata": {
        "id": "view-in-github",
        "colab_type": "text"
      },
      "source": [
        "<a href=\"https://colab.research.google.com/github/iEpsilon-FPS/QU-Python/blob/master/2.1%20Introduction_to_Python.ipynb\" target=\"_parent\"><img src=\"https://colab.research.google.com/assets/colab-badge.svg\" alt=\"Open In Colab\"/></a>"
      ]
    },
    {
      "cell_type": "markdown",
      "metadata": {
        "id": "WsEKuLoy_pdl",
        "colab_type": "text"
      },
      "source": [
        "# Introduction to Python\n",
        "### This module introduces the key basics and language constructs of the Python programming language\n",
        "#### Copyright 2020 QuantUniversity LLC."
      ]
    },
    {
      "cell_type": "markdown",
      "metadata": {
        "colab_type": "text",
        "id": "GOwlZRXEQSHZ"
      },
      "source": [
        "## Working with python\n",
        "Below are some examples of how functions can be called. Note that anything that starts with a # in Python is considered as a comment"
      ]
    },
    {
      "cell_type": "code",
      "metadata": {
        "cellView": "both",
        "colab_type": "code",
        "id": "WUtu4316QSHL",
        "colab": {
          "base_uri": "https://localhost:8080/",
          "height": 35
        },
        "outputId": "a249f75a-4f86-4b91-9290-6ba2f102b9a3"
      },
      "source": [
        "a = 10\n",
        "a"
      ],
      "execution_count": null,
      "outputs": [
        {
          "output_type": "execute_result",
          "data": {
            "text/plain": [
              "10"
            ]
          },
          "metadata": {
            "tags": []
          },
          "execution_count": 1
        }
      ]
    },
    {
      "cell_type": "code",
      "metadata": {
        "id": "crediWvdgUzS",
        "colab_type": "code",
        "colab": {
          "base_uri": "https://localhost:8080/",
          "height": 34
        },
        "outputId": "1dc1c666-e30f-430b-b0f3-7934dbf27915"
      },
      "source": [
        "print(\"Hi\") #We are invoking a print function here"
      ],
      "execution_count": null,
      "outputs": [
        {
          "output_type": "stream",
          "text": [
            "Hi\n"
          ],
          "name": "stdout"
        }
      ]
    },
    {
      "cell_type": "code",
      "metadata": {
        "id": "XI076gNLgdBn",
        "colab_type": "code",
        "colab": {
          "base_uri": "https://localhost:8080/",
          "height": 34
        },
        "outputId": "0bec49af-822c-4cdb-e1fd-656d793ec685"
      },
      "source": [
        "from platform import python_version # We are using the platform package\n",
        "\n",
        "print(python_version()) #We are passing the output of the python_version function to the print function"
      ],
      "execution_count": null,
      "outputs": [
        {
          "output_type": "stream",
          "text": [
            "3.6.9\n"
          ],
          "name": "stdout"
        }
      ]
    },
    {
      "cell_type": "code",
      "metadata": {
        "id": "NrIrSeLOg3z9",
        "colab_type": "code",
        "colab": {
          "base_uri": "https://localhost:8080/",
          "height": 153
        },
        "outputId": "9febc7f6-8da6-4fd5-e53e-4bc20732fccb"
      },
      "source": [
        "help(python_version)"
      ],
      "execution_count": null,
      "outputs": [
        {
          "output_type": "stream",
          "text": [
            "Help on function python_version in module platform:\n",
            "\n",
            "python_version()\n",
            "    Returns the Python version as string 'major.minor.patchlevel'\n",
            "    \n",
            "    Note that unlike the Python sys.version, the returned value\n",
            "    will always include the patchlevel (it defaults to 0).\n",
            "\n"
          ],
          "name": "stdout"
        }
      ]
    },
    {
      "cell_type": "code",
      "metadata": {
        "id": "82isRPNhhPFR",
        "colab_type": "code",
        "colab": {}
      },
      "source": [
        "?python_version"
      ],
      "execution_count": null,
      "outputs": []
    },
    {
      "cell_type": "markdown",
      "metadata": {
        "colab_type": "text",
        "id": "JyG45Qk3qQLS"
      },
      "source": [
        "## Basic operations\n",
        "Let's try out some basic operations in Python here"
      ]
    },
    {
      "cell_type": "code",
      "metadata": {
        "id": "jYy0D4bLhl5b",
        "colab_type": "code",
        "colab": {
          "base_uri": "https://localhost:8080/",
          "height": 34
        },
        "outputId": "82ae61d9-d270-401f-d56a-70329b1af910"
      },
      "source": [
        "a = 'Boston'\n",
        "print(len(a))"
      ],
      "execution_count": null,
      "outputs": [
        {
          "output_type": "stream",
          "text": [
            "6\n"
          ],
          "name": "stdout"
        }
      ]
    },
    {
      "cell_type": "code",
      "metadata": {
        "id": "McA19i7PifvA",
        "colab_type": "code",
        "colab": {}
      },
      "source": [
        "b = 'Redsox'"
      ],
      "execution_count": null,
      "outputs": []
    },
    {
      "cell_type": "code",
      "metadata": {
        "id": "srs8zP86iKlH",
        "colab_type": "code",
        "colab": {
          "base_uri": "https://localhost:8080/",
          "height": 34
        },
        "outputId": "85572f8f-e344-433c-cc93-39293e5b30dd"
      },
      "source": [
        "c = a + b\n",
        "c"
      ],
      "execution_count": null,
      "outputs": [
        {
          "output_type": "execute_result",
          "data": {
            "text/plain": [
              "'BostonRedsox'"
            ]
          },
          "metadata": {
            "tags": []
          },
          "execution_count": 20
        }
      ]
    },
    {
      "cell_type": "code",
      "metadata": {
        "id": "NdC0IAvCimxn",
        "colab_type": "code",
        "colab": {
          "base_uri": "https://localhost:8080/",
          "height": 201
        },
        "outputId": "9f8e0b26-7d98-44f1-c6f3-bb0a58e22e9b"
      },
      "source": [
        "d = len(a) + len(b)\n",
        "print('d is of size ' + d)"
      ],
      "execution_count": null,
      "outputs": [
        {
          "output_type": "error",
          "ename": "TypeError",
          "evalue": "ignored",
          "traceback": [
            "\u001b[0;31m---------------------------------------------------------------------------\u001b[0m",
            "\u001b[0;31mTypeError\u001b[0m                                 Traceback (most recent call last)",
            "\u001b[0;32m<ipython-input-22-444aaba6c25a>\u001b[0m in \u001b[0;36m<module>\u001b[0;34m()\u001b[0m\n\u001b[1;32m      1\u001b[0m \u001b[0md\u001b[0m \u001b[0;34m=\u001b[0m \u001b[0mlen\u001b[0m\u001b[0;34m(\u001b[0m\u001b[0ma\u001b[0m\u001b[0;34m)\u001b[0m \u001b[0;34m+\u001b[0m \u001b[0mlen\u001b[0m\u001b[0;34m(\u001b[0m\u001b[0mb\u001b[0m\u001b[0;34m)\u001b[0m\u001b[0;34m\u001b[0m\u001b[0;34m\u001b[0m\u001b[0m\n\u001b[0;32m----> 2\u001b[0;31m \u001b[0mprint\u001b[0m\u001b[0;34m(\u001b[0m\u001b[0;34m'd is of size '\u001b[0m \u001b[0;34m+\u001b[0m \u001b[0md\u001b[0m\u001b[0;34m)\u001b[0m\u001b[0;34m\u001b[0m\u001b[0;34m\u001b[0m\u001b[0m\n\u001b[0m",
            "\u001b[0;31mTypeError\u001b[0m: must be str, not int"
          ]
        }
      ]
    },
    {
      "cell_type": "code",
      "metadata": {
        "id": "WlJp4chFiv3A",
        "colab_type": "code",
        "colab": {
          "base_uri": "https://localhost:8080/",
          "height": 34
        },
        "outputId": "71840be7-c3f0-4acc-baea-877cccd38cfe"
      },
      "source": [
        "print('d is of size ' + str(d))"
      ],
      "execution_count": null,
      "outputs": [
        {
          "output_type": "stream",
          "text": [
            "d is of size 12\n"
          ],
          "name": "stdout"
        }
      ]
    },
    {
      "cell_type": "markdown",
      "metadata": {
        "id": "ENf8HRE4jIvw",
        "colab_type": "text"
      },
      "source": [
        "## Functions\n",
        "#### Repeating operations without having to duplicate code"
      ]
    },
    {
      "cell_type": "code",
      "metadata": {
        "id": "_zpaiF81jRnD",
        "colab_type": "code",
        "colab": {}
      },
      "source": [
        "def addTwo (a, b):\n",
        "  return a + b"
      ],
      "execution_count": null,
      "outputs": []
    },
    {
      "cell_type": "code",
      "metadata": {
        "id": "kOPzwDP0jahb",
        "colab_type": "code",
        "colab": {
          "base_uri": "https://localhost:8080/",
          "height": 34
        },
        "outputId": "08b44a94-863a-45ac-f599-c2e601cf46af"
      },
      "source": [
        "print(addTwo(a,b))"
      ],
      "execution_count": null,
      "outputs": [
        {
          "output_type": "stream",
          "text": [
            "BostonRedsox\n"
          ],
          "name": "stdout"
        }
      ]
    },
    {
      "cell_type": "code",
      "metadata": {
        "id": "qXMLKzF7j7Lo",
        "colab_type": "code",
        "colab": {
          "base_uri": "https://localhost:8080/",
          "height": 34
        },
        "outputId": "9f7b2055-6869-4a5b-bd6b-b96d485d7666"
      },
      "source": [
        "print(addTwo(5,3))"
      ],
      "execution_count": null,
      "outputs": [
        {
          "output_type": "stream",
          "text": [
            "8\n"
          ],
          "name": "stdout"
        }
      ]
    },
    {
      "cell_type": "code",
      "metadata": {
        "id": "_uA_ca63juNy",
        "colab_type": "code",
        "colab": {
          "base_uri": "https://localhost:8080/",
          "height": 252
        },
        "outputId": "7525a7c7-d004-4b9c-fdff-3ddd3530fd4d"
      },
      "source": [
        "print(addTwo(1,'hi'))"
      ],
      "execution_count": null,
      "outputs": [
        {
          "output_type": "error",
          "ename": "TypeError",
          "evalue": "ignored",
          "traceback": [
            "\u001b[0;31m---------------------------------------------------------------------------\u001b[0m",
            "\u001b[0;31mTypeError\u001b[0m                                 Traceback (most recent call last)",
            "\u001b[0;32m<ipython-input-28-3cbd4604574b>\u001b[0m in \u001b[0;36m<module>\u001b[0;34m()\u001b[0m\n\u001b[0;32m----> 1\u001b[0;31m \u001b[0mprint\u001b[0m\u001b[0;34m(\u001b[0m\u001b[0maddTwo\u001b[0m\u001b[0;34m(\u001b[0m\u001b[0;36m1\u001b[0m\u001b[0;34m,\u001b[0m\u001b[0;34m'hi'\u001b[0m\u001b[0;34m)\u001b[0m\u001b[0;34m)\u001b[0m\u001b[0;34m\u001b[0m\u001b[0;34m\u001b[0m\u001b[0m\n\u001b[0m",
            "\u001b[0;32m<ipython-input-26-3aa3aa07ddcd>\u001b[0m in \u001b[0;36maddTwo\u001b[0;34m(a, b)\u001b[0m\n\u001b[1;32m      1\u001b[0m \u001b[0;32mdef\u001b[0m \u001b[0maddTwo\u001b[0m \u001b[0;34m(\u001b[0m\u001b[0ma\u001b[0m\u001b[0;34m,\u001b[0m \u001b[0mb\u001b[0m\u001b[0;34m)\u001b[0m\u001b[0;34m:\u001b[0m\u001b[0;34m\u001b[0m\u001b[0;34m\u001b[0m\u001b[0m\n\u001b[0;32m----> 2\u001b[0;31m   \u001b[0;32mreturn\u001b[0m \u001b[0ma\u001b[0m \u001b[0;34m+\u001b[0m \u001b[0mb\u001b[0m\u001b[0;34m\u001b[0m\u001b[0;34m\u001b[0m\u001b[0m\n\u001b[0m",
            "\u001b[0;31mTypeError\u001b[0m: unsupported operand type(s) for +: 'int' and 'str'"
          ]
        }
      ]
    },
    {
      "cell_type": "markdown",
      "metadata": {
        "id": "SxqI-c78laCb",
        "colab_type": "text"
      },
      "source": [
        "## Conditional Statements & Loops\n",
        "### If-else"
      ]
    },
    {
      "cell_type": "code",
      "metadata": {
        "id": "BwuoO8NYj3E_",
        "colab_type": "code",
        "colab": {}
      },
      "source": [
        "def addTwo (a, b):\n",
        "  if (type(a) == type(b)):\n",
        "    return a + b\n",
        "  else:\n",
        "    raise Exception('Input types don\\'t match')"
      ],
      "execution_count": null,
      "outputs": []
    },
    {
      "cell_type": "code",
      "metadata": {
        "id": "kgKt4Yj9k0Jm",
        "colab_type": "code",
        "colab": {
          "base_uri": "https://localhost:8080/",
          "height": 269
        },
        "outputId": "ddf436e7-4599-4a21-9142-6dbcde0fdb25"
      },
      "source": [
        "print(addTwo(1,'hi'))"
      ],
      "execution_count": null,
      "outputs": [
        {
          "output_type": "error",
          "ename": "Exception",
          "evalue": "ignored",
          "traceback": [
            "\u001b[0;31m---------------------------------------------------------------------------\u001b[0m",
            "\u001b[0;31mException\u001b[0m                                 Traceback (most recent call last)",
            "\u001b[0;32m<ipython-input-36-3cbd4604574b>\u001b[0m in \u001b[0;36m<module>\u001b[0;34m()\u001b[0m\n\u001b[0;32m----> 1\u001b[0;31m \u001b[0mprint\u001b[0m\u001b[0;34m(\u001b[0m\u001b[0maddTwo\u001b[0m\u001b[0;34m(\u001b[0m\u001b[0;36m1\u001b[0m\u001b[0;34m,\u001b[0m\u001b[0;34m'hi'\u001b[0m\u001b[0;34m)\u001b[0m\u001b[0;34m)\u001b[0m\u001b[0;34m\u001b[0m\u001b[0;34m\u001b[0m\u001b[0m\n\u001b[0m",
            "\u001b[0;32m<ipython-input-35-9043e9bd8957>\u001b[0m in \u001b[0;36maddTwo\u001b[0;34m(a, b)\u001b[0m\n\u001b[1;32m      3\u001b[0m     \u001b[0;32mreturn\u001b[0m \u001b[0ma\u001b[0m \u001b[0;34m+\u001b[0m \u001b[0mb\u001b[0m\u001b[0;34m\u001b[0m\u001b[0;34m\u001b[0m\u001b[0m\n\u001b[1;32m      4\u001b[0m   \u001b[0;32melse\u001b[0m\u001b[0;34m:\u001b[0m\u001b[0;34m\u001b[0m\u001b[0;34m\u001b[0m\u001b[0m\n\u001b[0;32m----> 5\u001b[0;31m     \u001b[0;32mraise\u001b[0m \u001b[0mException\u001b[0m\u001b[0;34m(\u001b[0m\u001b[0;34m'Input types don\\'t match'\u001b[0m\u001b[0;34m)\u001b[0m\u001b[0;34m\u001b[0m\u001b[0;34m\u001b[0m\u001b[0m\n\u001b[0m",
            "\u001b[0;31mException\u001b[0m: Input types don't match"
          ]
        }
      ]
    },
    {
      "cell_type": "markdown",
      "metadata": {
        "id": "_KgshkIXnVL_",
        "colab_type": "text"
      },
      "source": [
        "### Introducing elif"
      ]
    },
    {
      "cell_type": "code",
      "metadata": {
        "id": "eYZTzYLjlZA8",
        "colab_type": "code",
        "colab": {
          "base_uri": "https://localhost:8080/",
          "height": 130
        },
        "outputId": "c162d300-958d-433b-ce7f-92e48adc3c9d"
      },
      "source": [
        "  creditScore = 550\n",
        "  accountBalance = 'high'\n",
        "  if creditScore >= 800:\n",
        "    print('Issue Credit Card with 0% interest')\n",
        "    elif accountBalance == 'high' or creditScore >= 700:\n",
        "      print('Issue Credit Card with 3% interest')\n",
        "    elif accountBalance == 'OK' or creditScore >= 600:\n",
        "      print(\"Issue Credit Card with 6% interest.\")\n",
        "    else:\n",
        "      print(\"Don't issue Credit Card\")"
      ],
      "execution_count": null,
      "outputs": [
        {
          "output_type": "error",
          "ename": "SyntaxError",
          "evalue": "ignored",
          "traceback": [
            "\u001b[0;36m  File \u001b[0;32m\"<ipython-input-45-ebd30d336265>\"\u001b[0;36m, line \u001b[0;32m5\u001b[0m\n\u001b[0;31m    elif accountBalance == 'high' or creditScore >= 700:\u001b[0m\n\u001b[0m       ^\u001b[0m\n\u001b[0;31mSyntaxError\u001b[0m\u001b[0;31m:\u001b[0m invalid syntax\n"
          ]
        }
      ]
    },
    {
      "cell_type": "markdown",
      "metadata": {
        "id": "1fM8VL2UmwDc",
        "colab_type": "text"
      },
      "source": [
        "Note: Indentation matters in Python!"
      ]
    },
    {
      "cell_type": "code",
      "metadata": {
        "id": "foJOrBjBmq2h",
        "colab_type": "code",
        "colab": {}
      },
      "source": [
        "  creditScore = 550\n",
        "  accountBalance = 'high'\n",
        "  if creditScore >= 800:\n",
        "    print('Issue Credit Card with 0% interest')\n",
        "  elif accountBalance == 'high' or creditScore >= 700:\n",
        "      print('Issue Credit Card with 3% interest')\n",
        "  elif accountBalance == 'OK' or creditScore >= 600:\n",
        "      print(\"Issue Credit Card with 6% interest.\")\n",
        "  else:\n",
        "      print(\"Don't issue Credit Card\")"
      ],
      "execution_count": null,
      "outputs": []
    },
    {
      "cell_type": "markdown",
      "metadata": {
        "id": "YAlcxsz-nYsP",
        "colab_type": "text"
      },
      "source": [
        "## Lists, Indexing and Tuples"
      ]
    },
    {
      "cell_type": "code",
      "metadata": {
        "id": "skjbxwLnzgEl",
        "colab_type": "code",
        "colab": {
          "base_uri": "https://localhost:8080/",
          "height": 84
        },
        "outputId": "1f7a2568-3223-4d4c-bb8f-f130f0fafebb"
      },
      "source": [
        "stocks = ['AAPL', 'AMZN', 'BA']\n",
        "print(stocks[0])    ## AAPL\n",
        "print(stocks[2])    ## BA\n",
        "print(stocks[-1])   ## BA\n",
        "print(len(stocks))  ## 3"
      ],
      "execution_count": null,
      "outputs": [
        {
          "output_type": "stream",
          "text": [
            "AAPL\n",
            "BA\n",
            "BA\n",
            "3\n"
          ],
          "name": "stdout"
        }
      ]
    },
    {
      "cell_type": "code",
      "metadata": {
        "id": "Y72QiMEv0EnV",
        "colab_type": "code",
        "colab": {
          "base_uri": "https://localhost:8080/",
          "height": 51
        },
        "outputId": "49faea2d-7730-4554-94e6-3327f51c786c"
      },
      "source": [
        "mystocks = stocks   ## Does not copy the list\n",
        "mystocks[1] = 'C'\n",
        "print(mystocks[1])\n",
        "print(stocks[1])"
      ],
      "execution_count": null,
      "outputs": [
        {
          "output_type": "stream",
          "text": [
            "C\n",
            "C\n"
          ],
          "name": "stdout"
        }
      ]
    },
    {
      "cell_type": "code",
      "metadata": {
        "id": "VCrWMJ6s06EE",
        "colab_type": "code",
        "colab": {}
      },
      "source": [
        "import copy\n",
        "mystocks = copy.deepcopy(stocks)"
      ],
      "execution_count": null,
      "outputs": []
    },
    {
      "cell_type": "code",
      "metadata": {
        "id": "iIaWqOM61BWw",
        "colab_type": "code",
        "colab": {
          "base_uri": "https://localhost:8080/",
          "height": 51
        },
        "outputId": "83287cb4-4ac1-4f04-8f8b-4070955fe987"
      },
      "source": [
        "mystocks[1] = 'D'\n",
        "print(mystocks[1])\n",
        "print(stocks[1])"
      ],
      "execution_count": null,
      "outputs": [
        {
          "output_type": "stream",
          "text": [
            "D\n",
            "C\n"
          ],
          "name": "stdout"
        }
      ]
    },
    {
      "cell_type": "code",
      "metadata": {
        "id": "8Cur4lZC1mm_",
        "colab_type": "code",
        "colab": {
          "base_uri": "https://localhost:8080/",
          "height": 34
        },
        "outputId": "56863056-a17a-4a0e-b681-e6c6ffa3c994"
      },
      "source": [
        "E = mystocks + stocks\n",
        "E"
      ],
      "execution_count": null,
      "outputs": [
        {
          "output_type": "execute_result",
          "data": {
            "text/plain": [
              "['AAPL', 'D', 'BA', 'AAPL', 'C', 'BA']"
            ]
          },
          "metadata": {
            "tags": []
          },
          "execution_count": 63
        }
      ]
    },
    {
      "cell_type": "code",
      "metadata": {
        "id": "g2IIaogm7On1",
        "colab_type": "code",
        "colab": {
          "base_uri": "https://localhost:8080/",
          "height": 34
        },
        "outputId": "d4a8abeb-de58-4825-85d4-a19811f1ac0e"
      },
      "source": [
        "nums = [1, 2, 3, 4]\n",
        "numslice = nums[-2:]\n",
        "numslice"
      ],
      "execution_count": null,
      "outputs": [
        {
          "output_type": "execute_result",
          "data": {
            "text/plain": [
              "[3, 4]"
            ]
          },
          "metadata": {
            "tags": []
          },
          "execution_count": 111
        }
      ]
    },
    {
      "cell_type": "code",
      "metadata": {
        "id": "oyKIt2QY_2EN",
        "colab_type": "code",
        "colab": {
          "base_uri": "https://localhost:8080/",
          "height": 34
        },
        "outputId": "424da1e2-05c1-480c-bb43-3f025ef47645"
      },
      "source": [
        "squares = [ n + n for n in nums ]   ## [2, 4, 6, 8]\n",
        "print(squares)"
      ],
      "execution_count": null,
      "outputs": [
        {
          "output_type": "stream",
          "text": [
            "[2, 4, 6, 8]\n"
          ],
          "name": "stdout"
        }
      ]
    },
    {
      "cell_type": "code",
      "metadata": {
        "id": "d4DDbB8x-ZLR",
        "colab_type": "code",
        "colab": {
          "base_uri": "https://localhost:8080/",
          "height": 34
        },
        "outputId": "c29e75df-edab-49cd-cef8-e7c0439a9839"
      },
      "source": [
        "del squares[0]\n",
        "print(squares)"
      ],
      "execution_count": null,
      "outputs": [
        {
          "output_type": "stream",
          "text": [
            "[4, 6, 8]\n"
          ],
          "name": "stdout"
        }
      ]
    },
    {
      "cell_type": "code",
      "metadata": {
        "id": "FJkusu9R_hI_",
        "colab_type": "code",
        "colab": {
          "base_uri": "https://localhost:8080/",
          "height": 34
        },
        "outputId": "1b3d34ec-37c0-47bf-c14c-2b6670d9bd5d"
      },
      "source": [
        ""
      ],
      "execution_count": null,
      "outputs": [
        {
          "output_type": "execute_result",
          "data": {
            "text/plain": [
              "[3, 4]"
            ]
          },
          "metadata": {
            "tags": []
          },
          "execution_count": 110
        }
      ]
    },
    {
      "cell_type": "code",
      "metadata": {
        "id": "25n_Ktzy_l3U",
        "colab_type": "code",
        "colab": {}
      },
      "source": [
        ""
      ],
      "execution_count": null,
      "outputs": []
    },
    {
      "cell_type": "code",
      "metadata": {
        "id": "bayhPKYB7yu2",
        "colab_type": "code",
        "colab": {}
      },
      "source": [
        "stockTuple = ('AAPL', 'AMZN', 'BA')"
      ],
      "execution_count": null,
      "outputs": []
    },
    {
      "cell_type": "code",
      "metadata": {
        "id": "WhLGTUBX71d8",
        "colab_type": "code",
        "colab": {
          "base_uri": "https://localhost:8080/",
          "height": 162
        },
        "outputId": "021a47ef-6229-47da-eeb0-8b44136021ba"
      },
      "source": [
        "stockTuple[2] = 'F'"
      ],
      "execution_count": null,
      "outputs": [
        {
          "output_type": "error",
          "ename": "TypeError",
          "evalue": "ignored",
          "traceback": [
            "\u001b[0;31m---------------------------------------------------------------------------\u001b[0m",
            "\u001b[0;31mTypeError\u001b[0m                                 Traceback (most recent call last)",
            "\u001b[0;32m<ipython-input-91-11906be6b533>\u001b[0m in \u001b[0;36m<module>\u001b[0;34m()\u001b[0m\n\u001b[0;32m----> 1\u001b[0;31m \u001b[0mstockTuple\u001b[0m\u001b[0;34m[\u001b[0m\u001b[0;36m2\u001b[0m\u001b[0;34m]\u001b[0m \u001b[0;34m=\u001b[0m \u001b[0;34m'F'\u001b[0m\u001b[0;34m\u001b[0m\u001b[0;34m\u001b[0m\u001b[0m\n\u001b[0m",
            "\u001b[0;31mTypeError\u001b[0m: 'tuple' object does not support item assignment"
          ]
        }
      ]
    },
    {
      "cell_type": "markdown",
      "metadata": {
        "id": "yv8Eszjp3Ts4",
        "colab_type": "text"
      },
      "source": [
        "## For,in loop"
      ]
    },
    {
      "cell_type": "code",
      "metadata": {
        "id": "xCb4X0BO3R2z",
        "colab_type": "code",
        "colab": {
          "base_uri": "https://localhost:8080/",
          "height": 67
        },
        "outputId": "089c325f-304a-412e-9875-1d6e84fb126e"
      },
      "source": [
        "for a in stocks:\n",
        "  print(a)"
      ],
      "execution_count": null,
      "outputs": [
        {
          "output_type": "stream",
          "text": [
            "AAPL\n",
            "C\n",
            "BA\n"
          ],
          "name": "stdout"
        }
      ]
    },
    {
      "cell_type": "code",
      "metadata": {
        "id": "aHURGYEB4CP_",
        "colab_type": "code",
        "colab": {
          "base_uri": "https://localhost:8080/",
          "height": 67
        },
        "outputId": "33333dd9-423b-4121-8a4d-c826c8cc0a2e"
      },
      "source": [
        "for i in range(len(stocks)):\n",
        "    print(stocks[i])"
      ],
      "execution_count": null,
      "outputs": [
        {
          "output_type": "stream",
          "text": [
            "AAPL\n",
            "C\n",
            "BA\n"
          ],
          "name": "stdout"
        }
      ]
    },
    {
      "cell_type": "code",
      "metadata": {
        "id": "b0tubCCg3rHn",
        "colab_type": "code",
        "colab": {
          "base_uri": "https://localhost:8080/",
          "height": 50
        },
        "outputId": "1bf30660-db5b-446d-edeb-f9d5dfbae151"
      },
      "source": [
        "squares = [1, 4, 9, 16]\n",
        "sum = 0\n",
        "for num in squares:\n",
        "  sum += num\n",
        "print(sum)  ## 30"
      ],
      "execution_count": null,
      "outputs": [
        {
          "output_type": "stream",
          "text": [
            "30\n",
            "[4, 9, 16]\n"
          ],
          "name": "stdout"
        }
      ]
    },
    {
      "cell_type": "markdown",
      "metadata": {
        "id": "XXFN2ly34PAx",
        "colab_type": "text"
      },
      "source": [
        "## Sorting"
      ]
    },
    {
      "cell_type": "code",
      "metadata": {
        "id": "pzSgT7r04QxE",
        "colab_type": "code",
        "colab": {
          "base_uri": "https://localhost:8080/",
          "height": 84
        },
        "outputId": "01f84ae6-424c-47fc-ce82-82deb41eac6f"
      },
      "source": [
        "print(sorted(stocks))\n",
        "print(stocks)\n",
        "print(sorted(stocks, reverse=True))\n",
        "print(stocks)"
      ],
      "execution_count": null,
      "outputs": [
        {
          "output_type": "stream",
          "text": [
            "['AAPL', 'AMZN', 'BA']\n",
            "['AAPL', 'AMZN', 'BA']\n",
            "['BA', 'AMZN', 'AAPL']\n",
            "['AAPL', 'AMZN', 'BA']\n"
          ],
          "name": "stdout"
        }
      ]
    },
    {
      "cell_type": "code",
      "metadata": {
        "id": "JG6h4WRs625I",
        "colab_type": "code",
        "colab": {
          "base_uri": "https://localhost:8080/",
          "height": 34
        },
        "outputId": "b3ee1815-c4aa-4758-ae9b-023f028ad3d7"
      },
      "source": [
        "stocks.sort()\n",
        "print(stocks)"
      ],
      "execution_count": null,
      "outputs": [
        {
          "output_type": "stream",
          "text": [
            "['AAPL', 'AMZN', 'BA']\n"
          ],
          "name": "stdout"
        }
      ]
    },
    {
      "cell_type": "code",
      "metadata": {
        "id": "qZcafgv75woP",
        "colab_type": "code",
        "colab": {
          "base_uri": "https://localhost:8080/",
          "height": 34
        },
        "outputId": "6aecacd5-c2ac-47e0-c027-031284a4663c"
      },
      "source": [
        "print(sorted(stocks, key = len))"
      ],
      "execution_count": null,
      "outputs": [
        {
          "output_type": "stream",
          "text": [
            "['C', 'BA', 'AAPL']\n"
          ],
          "name": "stdout"
        }
      ]
    },
    {
      "cell_type": "markdown",
      "metadata": {
        "id": "GNp7Wj948aD7",
        "colab_type": "text"
      },
      "source": [
        "## Dict"
      ]
    },
    {
      "cell_type": "code",
      "metadata": {
        "id": "6jVV0OyN8iDH",
        "colab_type": "code",
        "colab": {
          "base_uri": "https://localhost:8080/",
          "height": 34
        },
        "outputId": "20f4d35b-a60e-42a0-d1ec-3ad8b1d3485a"
      },
      "source": [
        "dict = {}\n",
        "dict['AAPL'] = 'Apple'\n",
        "dict['AMZN'] = 'Amazon'\n",
        "dict['BA'] = 'Boeing'\n",
        "print(dict)  "
      ],
      "execution_count": null,
      "outputs": [
        {
          "output_type": "stream",
          "text": [
            "{'AAPL': 'Apple', 'AMZN': 'Amazon', 'BA': 'Boeing'}\n"
          ],
          "name": "stdout"
        }
      ]
    },
    {
      "cell_type": "code",
      "metadata": {
        "id": "d8TBecGi9Nz2",
        "colab_type": "code",
        "colab": {
          "base_uri": "https://localhost:8080/",
          "height": 67
        },
        "outputId": "4fa5149b-8138-4334-9df1-f647003dfb12"
      },
      "source": [
        "for key in dict.keys(): print(str.lower(key))"
      ],
      "execution_count": null,
      "outputs": [
        {
          "output_type": "stream",
          "text": [
            "aapl\n",
            "amzn\n",
            "ba\n"
          ],
          "name": "stdout"
        }
      ]
    },
    {
      "cell_type": "code",
      "metadata": {
        "id": "_l0Oom4E9RLK",
        "colab_type": "code",
        "colab": {
          "base_uri": "https://localhost:8080/",
          "height": 67
        },
        "outputId": "f457dd14-c1f7-4564-98fa-48b7bb601d90"
      },
      "source": [
        "for value in dict.values(): print(value)"
      ],
      "execution_count": null,
      "outputs": [
        {
          "output_type": "stream",
          "text": [
            "Apple\n",
            "Amazon\n",
            "Boeing\n"
          ],
          "name": "stdout"
        }
      ]
    },
    {
      "cell_type": "code",
      "metadata": {
        "id": "9iafDw8I9jX7",
        "colab_type": "code",
        "colab": {
          "base_uri": "https://localhost:8080/",
          "height": 67
        },
        "outputId": "17f57583-b85c-4bda-e2f3-c420db63b6ff"
      },
      "source": [
        "dictKeys = dict.keys()\n",
        "print(dictKeys)\n",
        "print(type(dictKeys))\n",
        "dictKeys = list(dictKeys)\n",
        "print(type(dictKeys))"
      ],
      "execution_count": null,
      "outputs": [
        {
          "output_type": "stream",
          "text": [
            "dict_keys(['AAPL', 'AMZN', 'BA'])\n",
            "<class 'dict_keys'>\n",
            "<class 'list'>\n"
          ],
          "name": "stdout"
        }
      ]
    },
    {
      "cell_type": "markdown",
      "metadata": {
        "id": "QSt0ktmzAIxH",
        "colab_type": "text"
      },
      "source": [
        "## External libraries"
      ]
    },
    {
      "cell_type": "code",
      "metadata": {
        "id": "aXJtNdcWAT79",
        "colab_type": "code",
        "colab": {
          "base_uri": "https://localhost:8080/",
          "height": 34
        },
        "outputId": "8f36851a-1258-46c6-a83b-1192bdb368a4"
      },
      "source": [
        "import math as m\n",
        "r = 5\n",
        "area = m.pi*r*r\n",
        "print(area)"
      ],
      "execution_count": null,
      "outputs": [
        {
          "output_type": "stream",
          "text": [
            "78.53981633974483\n"
          ],
          "name": "stdout"
        }
      ]
    },
    {
      "cell_type": "code",
      "metadata": {
        "id": "1jkZOemOAiRF",
        "colab_type": "code",
        "colab": {
          "base_uri": "https://localhost:8080/",
          "height": 34
        },
        "outputId": "d633419e-59eb-43f2-9c51-e49bd0523895"
      },
      "source": [
        "import numpy as np\n",
        "# Roll a dice 5 times\n",
        "rolls = np.random.randint(low=1, high=6, size=5)\n",
        "rolls"
      ],
      "execution_count": null,
      "outputs": [
        {
          "output_type": "execute_result",
          "data": {
            "text/plain": [
              "array([3, 2, 4, 3, 3])"
            ]
          },
          "metadata": {
            "tags": []
          },
          "execution_count": 115
        }
      ]
    },
    {
      "cell_type": "code",
      "metadata": {
        "colab_type": "code",
        "id": "JVXnTqyE9RET",
        "colab": {
          "base_uri": "https://localhost:8080/",
          "height": 281
        },
        "outputId": "cc00628d-ca6a-42ee-a67b-939777f8ebe6"
      },
      "source": [
        "from matplotlib import pyplot as plt\n",
        "\n",
        "ys = 200 + np.random.randn(100)\n",
        "x = [x for x in range(len(ys))]\n",
        "\n",
        "plt.plot(x, ys, '-')\n",
        "plt.fill_between(x, ys, 195, where=(ys > 195), facecolor='g', alpha=0.6)\n",
        "\n",
        "plt.title(\"Fills and Alpha Example\")\n",
        "plt.show()"
      ],
      "execution_count": null,
      "outputs": [
        {
          "output_type": "display_data",
          "data": {
            "image/png": "[encoded data removed]",
            "text/plain": [
              "<Figure size 432x288 with 1 Axes>"
            ]
          },
          "metadata": {
            "tags": [],
            "needs_background": "light"
          }
        }
      ]
    },
    {
      "cell_type": "code",
      "metadata": {
        "id": "MS0SIwveBLD2",
        "colab_type": "code",
        "colab": {}
      },
      "source": [
        ""
      ],
      "execution_count": null,
      "outputs": []
    }
  ]
}