{
  "nbformat": 4,
  "nbformat_minor": 0,
  "metadata": {
    "colab": {
      "name": "Introduction to Jupyter Notebooks (Exercises)",
      "provenance": [],
      "collapsed_sections": [],
      "toc_visible": true,
      "include_colab_link": true
    },
    "kernelspec": {
      "display_name": "Python 3",
      "name": "python3"
    }
  },
  "cells": [
    {
      "cell_type": "markdown",
      "metadata": {
        "id": "view-in-github",
        "colab_type": "text"
      },
      "source": [
        "<a href=\"https://colab.research.google.com/github/iEpsilon-FPS/QU-Python/blob/master/1.2%20Introduction_to_Jupyter_Notebooks_(Exercises).ipynb\" target=\"_parent\"><img src=\"https://colab.research.google.com/assets/colab-badge.svg\" alt=\"Open In Colab\"/></a>"
      ]
    },
    {
      "cell_type": "markdown",
      "metadata": {
        "id": "WsEKuLoy_pdl",
        "colab_type": "text"
      },
      "source": [
        "# Introduction to Jupyter Notebooks (Exercises)"
      ]
    },
    {
      "cell_type": "markdown",
      "metadata": {
        "id": "Mm8eXnOmWbhJ",
        "colab_type": "text"
      },
      "source": [
        "#### Copyright 2020 QuantUniversity LLC."
      ]
    },
    {
      "cell_type": "markdown",
      "metadata": {
        "colab_type": "text",
        "id": "JyG45Qk3qQLS"
      },
      "source": [
        "# 1. Working with Cells\n",
        "1. Add a text cell below"
      ]
    },
    {
      "cell_type": "markdown",
      "metadata": {
        "colab_type": "text",
        "id": "KR921S_OQSHG"
      },
      "source": [
        "\n",
        "2. Add a code cell below and try to add 1 + 2"
      ]
    },
    {
      "cell_type": "markdown",
      "metadata": {
        "colab_type": "text",
        "id": "7bqjkGKwQSHW"
      },
      "source": [
        "## 2. Menu options\n",
        "1. Try running all cells by clicking Runtime->Run all"
      ]
    },
    {
      "cell_type": "code",
      "metadata": {
        "id": "q7_UHcqfc5I9",
        "colab_type": "code",
        "colab": {}
      },
      "source": [
        ""
      ],
      "execution_count": null,
      "outputs": []
    }
  ]
}