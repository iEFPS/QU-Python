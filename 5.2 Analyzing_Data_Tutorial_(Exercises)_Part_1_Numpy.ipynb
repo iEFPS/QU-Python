{
  "nbformat": 4,
  "nbformat_minor": 0,
  "metadata": {
    "colab": {
      "name": "Analyzing Data Tutorial (Exercises) - Part 1: Numpy",
      "provenance": [],
      "private_outputs": true,
      "collapsed_sections": [],
      "include_colab_link": true
    },
    "kernelspec": {
      "name": "python3",
      "display_name": "Python 3"
    }
  },
  "cells": [
    {
      "cell_type": "markdown",
      "metadata": {
        "id": "view-in-github",
        "colab_type": "text"
      },
      "source": [
        "<a href=\"https://colab.research.google.com/github/iEpsilon-FPS/QU-Python/blob/master/5.2%20Analyzing_Data_Tutorial_(Exercises)_Part_1_Numpy.ipynb\" target=\"_parent\"><img src=\"https://colab.research.google.com/assets/colab-badge.svg\" alt=\"Open In Colab\"/></a>"
      ]
    },
    {
      "cell_type": "markdown",
      "metadata": {
        "id": "_E6bd_J0Q0mp",
        "colab_type": "text"
      },
      "source": [
        "#Analyzing Data. Packages Covered\n",
        "- numpy"
      ]
    },
    {
      "cell_type": "code",
      "metadata": {
        "id": "JuGzpxT_Z1EU",
        "colab_type": "code",
        "cellView": "both",
        "colab": {}
      },
      "source": [
        "Copyright 2020 QuantUniversity LLC."
      ],
      "execution_count": null,
      "outputs": []
    },
    {
      "cell_type": "markdown",
      "metadata": {
        "id": "lsQBsmpaQetV",
        "colab_type": "text"
      },
      "source": [
        "This is a modified and extended from this [tutorial](https://colab.research.google.com/github/google/eng-edu/blob/master/ml/cc/exercises/numpy_ultraquick_tutorial.ipynb?utm_source=mlcc&utm_campaign=colab-external&utm_medium=referral&utm_content=mlcc-prework&hl=en).\n",
        "NumPy is a Python library for creating and manipulating vectors and matrices. "
      ]
    },
    {
      "cell_type": "code",
      "metadata": {
        "id": "M6_alBDXjBDp",
        "colab_type": "code",
        "colab": {}
      },
      "source": [
        "# Install this if you don't have yfinance\n",
        "!pip install yfinance"
      ],
      "execution_count": null,
      "outputs": []
    },
    {
      "cell_type": "code",
      "metadata": {
        "id": "guvPzSWYJGZ4",
        "colab_type": "code",
        "colab": {}
      },
      "source": [
        "import pandas as pd\n",
        "import numpy as np \n",
        "import yfinance as yf\n",
        "import datetime"
      ],
      "execution_count": null,
      "outputs": []
    },
    {
      "cell_type": "markdown",
      "metadata": {
        "id": "7cT9fXS_JUpa",
        "colab_type": "text"
      },
      "source": [
        "## Populate arrays with specific numbers\n",
        "\n",
        "Create a list of 10 numbers; Convert it to a numpy array"
      ]
    },
    {
      "cell_type": "code",
      "metadata": {
        "id": "XxJR5xKpJbB3",
        "colab_type": "code",
        "colab": {}
      },
      "source": [
        "# Your answer\n",
        "listof = np.arange(1, 11)\n",
        "print(listof)\n",
        "print()\n",
        "\n",
        "nplistof = np.array(listof)\n",
        "print(nplistof)"
      ],
      "execution_count": null,
      "outputs": []
    },
    {
      "cell_type": "markdown",
      "metadata": {
        "id": "0ED7eug9CvGR",
        "colab_type": "text"
      },
      "source": [
        "# Exercise\n",
        "* Obtain data for the stock 'AAPL' for 2019\n",
        "* Compute daily returns using closing prices\n",
        "* Compute mean and standard deviation of the returns\n",
        "* Create a numpy array of 10 random numbers in the range 0.0 to 1.0\n",
        "* Generate 10 returns using the formula \n",
        "  * return = mean + (noise).(standard deviation)\n",
        "\n"
      ]
    },
    {
      "cell_type": "markdown",
      "metadata": {
        "id": "PW9H9eZl7xHo",
        "colab_type": "text"
      },
      "source": [
        "### First Example with Apple Data from Yahoo"
      ]
    },
    {
      "cell_type": "code",
      "metadata": {
        "id": "0RW2-CNf45cv",
        "colab_type": "code",
        "colab": {}
      },
      "source": [
        "sd1 = datetime.datetime(2019, 1, 1)\n",
        "ed2 = datetime.datetime(2019, 12, 31)\n",
        "StockTicker = yf.Ticker('AAPL')\n",
        "HistData = StockTicker.history(start=sd1, end=ed2)\n",
        "print('HistData =')\n",
        "print(HistData) # Panda DataFrame"
      ],
      "execution_count": null,
      "outputs": []
    },
    {
      "cell_type": "code",
      "metadata": {
        "id": "9X7rjtz7czsg",
        "colab_type": "code",
        "colab": {}
      },
      "source": [
        "Series = HistData.Close\n",
        "print(\"Stock Close =\")\n",
        "print(Series) # Pandas DataFrame of Close prices"
      ],
      "execution_count": null,
      "outputs": []
    },
    {
      "cell_type": "code",
      "metadata": {
        "id": "gyqIKCMcdS1H",
        "colab_type": "code",
        "colab": {}
      },
      "source": [
        "# Create NumPy array\n",
        "CloseData = Series.to_numpy()\n",
        "print(CloseData)\n",
        "# print(\"Stock Close =\", CloseData)"
      ],
      "execution_count": null,
      "outputs": []
    },
    {
      "cell_type": "code",
      "metadata": {
        "id": "CmN0482bs8Fv",
        "colab_type": "code",
        "colab": {}
      },
      "source": [
        "# Daily returnsa calculation in Pandas DataFrame\n",
        "Series['daily_return'] = ((Series/ Series.shift(1)) -1)\n",
        "Series.dropna(inplace = True)\n",
        "Returns = Series.daily_return\n",
        "print(Returns)"
      ],
      "execution_count": null,
      "outputs": []
    },
    {
      "cell_type": "code",
      "metadata": {
        "id": "WArB0laJzuLo",
        "colab_type": "code",
        "colab": {}
      },
      "source": [
        "# Returns in NumPy array\n",
        "ReturnData = Returns.to_numpy()\n",
        "ReturnData = ReturnData[~np.isnan(ReturnData)] # ~ is for negation, or equivalently below\n",
        "# ReturnData = ReturnData[np.logical_not(np.isnan(ReturnData))]\n",
        "print(\"Stock Return =\", ReturnData)"
      ],
      "execution_count": null,
      "outputs": []
    },
    {
      "cell_type": "code",
      "metadata": {
        "id": "HjBKO6NCyqnO",
        "colab_type": "code",
        "colab": {}
      },
      "source": [
        "np.mean(CloseData)\n",
        "print(\"Mean Close =\", np.mean(CloseData))\n",
        "\n",
        "np.mean(ReturnData)\n",
        "print(\"Mean Return =\", np.mean(ReturnData))\n",
        "\n",
        "np.std(ReturnData)\n",
        "print(\"Std Deviation =\", np.std(ReturnData))"
      ],
      "execution_count": null,
      "outputs": []
    },
    {
      "cell_type": "markdown",
      "metadata": {
        "id": "kHwk83zx7Jr2",
        "colab_type": "text"
      },
      "source": [
        "### Second Example with SP500 with Fred Data\n"
      ]
    },
    {
      "cell_type": "code",
      "metadata": {
        "id": "Mt62mAlYrseL",
        "colab_type": "code",
        "colab": {}
      },
      "source": [
        "import pandas as pd\n",
        "#if you get an error after executing the code, try adding below:\n",
        "pd.core.common.is_list_like = pd.api.types.is_list_like\n",
        "\n",
        "import pandas_datareader.data as web\n",
        "import datetime\n",
        "\n",
        "start = datetime.datetime(2010, 1, 1)\n",
        "end = datetime.datetime(2020, 1, 27)\n",
        "\n",
        "SP500 = web.DataReader(['sp500'], 'fred', start, end)\n",
        "\n",
        "print(SP500)"
      ],
      "execution_count": null,
      "outputs": []
    },
    {
      "cell_type": "code",
      "metadata": {
        "id": "w_NUclKUsMJe",
        "colab_type": "code",
        "colab": {}
      },
      "source": [
        "SP500['daily_return'] = ((SP500['sp500']/ SP500['sp500'].shift(1)) -1)\n",
        "SP500.dropna(inplace = True)\n",
        "print(SP500)"
      ],
      "execution_count": null,
      "outputs": []
    },
    {
      "cell_type": "code",
      "metadata": {
        "id": "XRfcrBjM9cSj",
        "colab_type": "code",
        "colab": {}
      },
      "source": [
        "# ?np.random, see the different types of random numbers that can be generated with NumPy\n",
        "# ?np.random\n",
        "# random_integers_between_0_and_1 = np.random.random_integers(low=0.000, high=1.000, size=(10))\n",
        "from numpy import random\n",
        "\n",
        "# One Random Number\n",
        "RandomReal = random_number_between_0_and_1 = random.rand()\n",
        "print(RandomReal)\n",
        "\n",
        "# Randonm Array of 10 numbers\n",
        "RandomArray = np.random.rand(10)\n",
        "print(RandomArray)"
      ],
      "execution_count": null,
      "outputs": []
    }
  ]
}