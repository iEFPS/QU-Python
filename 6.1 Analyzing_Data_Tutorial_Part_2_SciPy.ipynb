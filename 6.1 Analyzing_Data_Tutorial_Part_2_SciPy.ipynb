{
  "nbformat": 4,
  "nbformat_minor": 0,
  "metadata": {
    "colab": {
      "name": "6.1 Analyzing_Data_Tutorial_Part_2_SciPy.ipynb",
      "provenance": [],
      "private_outputs": true,
      "collapsed_sections": [],
      "toc_visible": true,
      "include_colab_link": true
    },
    "kernelspec": {
      "name": "python3",
      "display_name": "Python 3"
    }
  },
  "cells": [
    {
      "cell_type": "markdown",
      "metadata": {
        "id": "view-in-github",
        "colab_type": "text"
      },
      "source": [
        "<a href=\"https://colab.research.google.com/github/iEpsilon-FPS/QU-Python/blob/master/6.1%20Analyzing_Data_Tutorial_Part_2_SciPy.ipynb\" target=\"_parent\"><img src=\"https://colab.research.google.com/assets/colab-badge.svg\" alt=\"Open In Colab\"/></a>"
      ]
    },
    {
      "cell_type": "markdown",
      "metadata": {
        "id": "_E6bd_J0Q0mp",
        "colab_type": "text"
      },
      "source": [
        "#Analyzing Data. Packages Covered\n",
        "- SciPy"
      ]
    },
    {
      "cell_type": "markdown",
      "metadata": {
        "id": "C5NTiumMej5z",
        "colab_type": "text"
      },
      "source": [
        "Copyright 2020 QuantUniversity LLC."
      ]
    },
    {
      "cell_type": "markdown",
      "metadata": {
        "id": "lsQBsmpaQetV",
        "colab_type": "text"
      },
      "source": [
        "### References\n",
        "* Note: Examples are derived and extended from:\n",
        "* www.scipy.org\n",
        "* www.scipy-lectures.org"
      ]
    },
    {
      "cell_type": "code",
      "metadata": {
        "id": "M6_alBDXjBDp",
        "colab_type": "code",
        "colab": {}
      },
      "source": [
        "# Install this if you don't have yfinance\n",
        "!pip install yfinance"
      ],
      "execution_count": null,
      "outputs": []
    },
    {
      "cell_type": "code",
      "metadata": {
        "id": "guvPzSWYJGZ4",
        "colab_type": "code",
        "colab": {}
      },
      "source": [
        "import yfinance as yf\n",
        "import datetime"
      ],
      "execution_count": null,
      "outputs": []
    },
    {
      "cell_type": "markdown",
      "metadata": {
        "id": "7cT9fXS_JUpa",
        "colab_type": "text"
      },
      "source": [
        "## Scipy\n",
        "\n",
        "The Scipy package has multiple toolboxes meant to solve common problems in scientific computing"
      ]
    },
    {
      "cell_type": "markdown",
      "metadata": {
        "id": "VscpkK3X-LFS",
        "colab_type": "text"
      },
      "source": [
        "# Interpolation"
      ]
    },
    {
      "cell_type": "code",
      "metadata": {
        "id": "XxJR5xKpJbB3",
        "colab_type": "code",
        "colab": {}
      },
      "source": [
        "# Generate data\n",
        "from scipy.interpolate import interp1d\n",
        "import numpy as np\n",
        "\n",
        "measured_time = np.linspace(0, 1, 10)\n",
        "noise = (np.random.random(10)*2 - 1) * 1e-1\n",
        "measures = np.sin(2 * np.pi * measured_time) + noise\n",
        "\n",
        "# Interpolate it to new time points\n",
        "from scipy.interpolate import interp1d\n",
        "linear_interp = interp1d(measured_time, measures)\n",
        "interpolation_time = np.linspace(0, 1, 50)\n",
        "\n",
        "linear_results = linear_interp(interpolation_time)\n",
        "# ?interp1d\n",
        "cubic_interp = interp1d(measured_time, measures, kind='cubic')\n",
        "cubic_results = cubic_interp(interpolation_time)\n",
        "\n",
        "# Plot the data and the interpolation\n",
        "from matplotlib import pyplot as plt\n",
        "plt.figure(figsize=(6, 4))\n",
        "plt.plot(measured_time, measures, 'o', ms=6, label='measures')\n",
        "plt.plot(interpolation_time, linear_results, label='linear interp')\n",
        "plt.plot(interpolation_time, cubic_results, label='cubic interp')\n",
        "plt.legend()\n",
        "plt.show()\n"
      ],
      "execution_count": null,
      "outputs": []
    },
    {
      "cell_type": "markdown",
      "metadata": {
        "id": "lw5-FQSZ-Ot0",
        "colab_type": "text"
      },
      "source": [
        "# Optimization and curve fitting"
      ]
    },
    {
      "cell_type": "code",
      "metadata": {
        "id": "_veGj18eMCDu",
        "colab_type": "code",
        "colab": {}
      },
      "source": [
        "from scipy import optimize\n",
        "\n",
        "# Seed the random number generator for reproducibility\n",
        "np.random.seed(0)\n",
        "\n",
        "x_data = np.linspace(-5, 5, num=50)\n",
        "y_data = 2.9 * np.cos(1.5 * x_data) + np.random.normal(size=50)\n",
        "\n",
        "# And plot it\n",
        "import matplotlib.pyplot as plt\n",
        "plt.figure(figsize=(6, 4))\n",
        "plt.scatter(x_data, y_data)\n",
        "\n",
        "def test_func(x, a, b):\n",
        "    return a * np.cos(b * x)\n",
        "\n",
        "params, params_covariance = optimize.curve_fit(test_func, x_data, y_data,\n",
        "                                               p0=[2, 2])\n",
        "\n",
        "print(params)\n"
      ],
      "execution_count": null,
      "outputs": []
    },
    {
      "cell_type": "code",
      "metadata": {
        "id": "ZvGrd6Iy-vTJ",
        "colab_type": "code",
        "colab": {}
      },
      "source": [
        "plt.figure(figsize=(6, 4))\n",
        "plt.scatter(x_data, y_data, label='Data')\n",
        "plt.plot(x_data, test_func(x_data, params[0], params[1]),\n",
        "         label='Fitted function')\n",
        "\n",
        "plt.legend(loc='best')\n",
        "\n",
        "plt.show()"
      ],
      "execution_count": null,
      "outputs": []
    },
    {
      "cell_type": "markdown",
      "metadata": {
        "id": "0ED7eug9CvGR",
        "colab_type": "text"
      },
      "source": [
        "# Statistics"
      ]
    },
    {
      "cell_type": "code",
      "metadata": {
        "id": "W3QJ6AI2jT9H",
        "colab_type": "code",
        "colab": {}
      },
      "source": [
        "# Sample from a normal distribution using numpy's random number generator\n",
        "samples = np.random.normal(size=10000)\n",
        "\n",
        "# Compute a histogram of the sample\n",
        "bins = np.linspace(-5, 5, 30)\n",
        "histogram, bins = np.histogram(samples, bins=bins, density=True)\n",
        "print(bins)\n",
        "\n",
        "bin_centers = 0.5*(bins[1:] + bins[:-1])"
      ],
      "execution_count": null,
      "outputs": []
    },
    {
      "cell_type": "code",
      "metadata": {
        "id": "E-G-bkWYDlFF",
        "colab_type": "code",
        "colab": {}
      },
      "source": [
        "bin_centers"
      ],
      "execution_count": null,
      "outputs": []
    },
    {
      "cell_type": "code",
      "metadata": {
        "id": "wPATPcxTD6oU",
        "colab_type": "code",
        "colab": {}
      },
      "source": [
        "# Compute the PDF on the bin centers from scipy distribution object\n",
        "from scipy import stats\n",
        "pdf = stats.norm.pdf(bin_centers)\n",
        "\n",
        "from matplotlib import pyplot as plt\n",
        "plt.figure(figsize=(6, 4))\n",
        "plt.plot(bin_centers, histogram, label=\"Histogram of samples\")\n",
        "plt.plot(bin_centers, pdf, label=\"PDF\")\n",
        "plt.legend()\n",
        "plt.show()"
      ],
      "execution_count": null,
      "outputs": []
    },
    {
      "cell_type": "code",
      "metadata": {
        "id": "jDA0EpX8EMCL",
        "colab_type": "code",
        "colab": {}
      },
      "source": [
        "mean = np.mean(samples)\n",
        "std = np.std(samples)\n",
        "print(mean)\n",
        "print(std)"
      ],
      "execution_count": null,
      "outputs": []
    },
    {
      "cell_type": "code",
      "metadata": {
        "id": "zEiXjxPvEX32",
        "colab_type": "code",
        "colab": {}
      },
      "source": [
        "loc, std = stats.norm.fit(samples)\n",
        "print(loc)\n",
        "print(std)"
      ],
      "execution_count": null,
      "outputs": []
    },
    {
      "cell_type": "markdown",
      "metadata": {
        "id": "gEy_pdBoROu3",
        "colab_type": "text"
      },
      "source": [
        "## Signal processing"
      ]
    },
    {
      "cell_type": "code",
      "metadata": {
        "id": "CjHfYWhdQYtO",
        "colab_type": "code",
        "colab": {}
      },
      "source": [
        "from scipy import signal\n",
        "t = np.linspace(0, 5, 100)\n",
        "y = t + np.random.normal(size=100)"
      ],
      "execution_count": null,
      "outputs": []
    },
    {
      "cell_type": "code",
      "metadata": {
        "id": "tCfvYCNbFC-L",
        "colab_type": "code",
        "colab": {}
      },
      "source": [
        "y_detrended = signal.detrend(y)"
      ],
      "execution_count": null,
      "outputs": []
    },
    {
      "cell_type": "code",
      "metadata": {
        "id": "BPNmJavbFQhF",
        "colab_type": "code",
        "colab": {}
      },
      "source": [
        "from matplotlib import pyplot as plt\n",
        "plt.figure(figsize=(5, 4))\n",
        "plt.plot(t, y, label=\"y\")\n",
        "plt.plot(t, y_detrended, label=\"y_detrended\")\n",
        "plt.legend(loc='best')\n",
        "plt.show()"
      ],
      "execution_count": null,
      "outputs": []
    }
  ]
}