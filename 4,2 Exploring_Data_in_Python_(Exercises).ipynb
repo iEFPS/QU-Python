{
  "nbformat": 4,
  "nbformat_minor": 0,
  "metadata": {
    "colab": {
      "name": "Exploring Data in Python (Exercises)",
      "provenance": [],
      "collapsed_sections": [],
      "toc_visible": true,
      "include_colab_link": true
    },
    "kernelspec": {
      "display_name": "Python 3",
      "name": "python3"
    }
  },
  "cells": [
    {
      "cell_type": "markdown",
      "metadata": {
        "id": "view-in-github",
        "colab_type": "text"
      },
      "source": [
        "<a href=\"https://colab.research.google.com/github/iEpsilon-FPS/QU-Python/blob/master/4%2C2%20Exploring_Data_in_Python_(Exercises).ipynb\" target=\"_parent\"><img src=\"https://colab.research.google.com/assets/colab-badge.svg\" alt=\"Open In Colab\"/></a>"
      ]
    },
    {
      "cell_type": "markdown",
      "metadata": {
        "colab_type": "text",
        "id": "QSMmdrrVLZ-N"
      },
      "source": [
        "# Charting\n",
        "\n",
        "Use Matplotlib, Seaborn, Altair, Bokey or Plotly to practice your charting skills"
      ]
    },
    {
      "cell_type": "markdown",
      "metadata": {
        "colab_type": "text",
        "id": "WALI8x49GUpe"
      },
      "source": [
        "### Cross sectional Datasets\n",
        "\n",
        "## Choose cross-sectional datasets to plot your favorite graphs\n",
        "\n",
        "Use data from these sites to draw charts\n",
        "* https://datasetsearch.research.google.com/\n",
        "* https://www.kaggle.com/datasets"
      ]
    },
    {
      "cell_type": "code",
      "metadata": {
        "id": "YXHhFQsc0xJk",
        "colab_type": "code",
        "colab": {}
      },
      "source": [
        "# Try here:"
      ],
      "execution_count": null,
      "outputs": []
    },
    {
      "cell_type": "markdown",
      "metadata": {
        "colab_type": "text",
        "id": "piOR-_-10m42"
      },
      "source": [
        "### Temporal Datasets\n",
        "\n",
        "## Choose time series datasets from https://fred.stlouisfed.org/ to plot your favorite graphs"
      ]
    },
    {
      "cell_type": "code",
      "metadata": {
        "id": "zYScRq9T05c9",
        "colab_type": "code",
        "colab": {}
      },
      "source": [
        "# Try here:"
      ],
      "execution_count": null,
      "outputs": []
    }
  ]
}