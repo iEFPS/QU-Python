{
  "nbformat": 4,
  "nbformat_minor": 0,
  "metadata": {
    "colab": {
      "name": "6.2 Analyzing_Data_Tutorial_(Exercises)_Part_2_scipy.ipynb",
      "provenance": [],
      "private_outputs": true,
      "collapsed_sections": [],
      "include_colab_link": true
    },
    "kernelspec": {
      "name": "python3",
      "display_name": "Python 3"
    }
  },
  "cells": [
    {
      "cell_type": "markdown",
      "metadata": {
        "id": "view-in-github",
        "colab_type": "text"
      },
      "source": [
        "<a href=\"https://colab.research.google.com/github/iEpsilon-FPS/QU-Python/blob/master/6.2%20Analyzing_Data_Tutorial_(Exercises)_Part_2_scipy.ipynb\" target=\"_parent\"><img src=\"https://colab.research.google.com/assets/colab-badge.svg\" alt=\"Open In Colab\"/></a>"
      ]
    },
    {
      "cell_type": "markdown",
      "metadata": {
        "id": "_E6bd_J0Q0mp",
        "colab_type": "text"
      },
      "source": [
        "#Analyzing Data. Packages Covered\n",
        "- scipy"
      ]
    },
    {
      "cell_type": "markdown",
      "metadata": {
        "id": "lsQBsmpaQetV",
        "colab_type": "text"
      },
      "source": [
        "This example is derived from http://scipy-lectures.org/intro/scipy.html"
      ]
    },
    {
      "cell_type": "markdown",
      "metadata": {
        "id": "7cT9fXS_JUpa",
        "colab_type": "text"
      },
      "source": [
        "## Curve fitting: temperature as a function of month of the year"
      ]
    },
    {
      "cell_type": "markdown",
      "metadata": {
        "id": "ZrKACPECGVHP",
        "colab_type": "text"
      },
      "source": [
        "The temperature extremes in Alaska for each month, starting in January, are given by (in degrees Celcius):\n",
        "\n",
        "max:  17,  19,  21,  28,  33,  38, 37,  37,  31,  23,  19,  18\n",
        "\n",
        "min: -62, -59, -56, -46, -32, -18, -9, -13, -25, -46, -52, -58\n",
        "\n",
        "* Plot these temperature extremes.\n",
        "* Define a function that can describe min and max temperatures. Hint: this function has to have a period of 1 year. Hint: include a time offset.\n",
        "* Fit this function to the data with scipy.optimize.curve_fit().\n",
        "* Plot the result. Is the fit reasonable? If not, why?\n",
        "*Is the time offset for min and max temperatures the same within the fit accuracy?"
      ]
    },
    {
      "cell_type": "code",
      "metadata": {
        "id": "XxJR5xKpJbB3",
        "colab_type": "code",
        "colab": {}
      },
      "source": [
        "# Your answer"
      ],
      "execution_count": null,
      "outputs": []
    },
    {
      "cell_type": "markdown",
      "metadata": {
        "id": "0ED7eug9CvGR",
        "colab_type": "text"
      },
      "source": [
        "# Solution\n",
        "See solution here: http://scipy-lectures.org/intro/scipy/auto_examples/solutions/plot_curvefit_temperature_data.html#sphx-glr-intro-scipy-auto-examples-solutions-plot-curvefit-temperature-data-py\n"
      ]
    },
    {
      "cell_type": "code",
      "metadata": {
        "id": "0RW2-CNf45cv",
        "colab_type": "code",
        "colab": {}
      },
      "source": [
        ""
      ],
      "execution_count": null,
      "outputs": []
    }
  ]
}